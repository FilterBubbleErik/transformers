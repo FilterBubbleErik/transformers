{
 "cells": [
  {
   "cell_type": "markdown",
   "id": "b220be2a-9a82-4f7e-8b32-df6296c5f038",
   "metadata": {},
   "source": [
    "# Experiments with relation extraction\n",
    "\n",
    "For the Filter Bubble project"
   ]
  },
  {
   "cell_type": "markdown",
   "id": "a36d64b7-6a69-4d86-bb7a-f9cb7c94ef4d",
   "metadata": {},
   "source": [
    "## 1. Roberta Named Entity Recogntion by Erik Novak\n",
    "\n",
    "Source: https://www.kaggle.com/eriknovak/pytorch-roberta-named-entity-recognition"
   ]
  },
  {
   "cell_type": "code",
   "execution_count": 1,
   "id": "c84f653e-cb5e-418c-8f15-0907018eac6b",
   "metadata": {},
   "outputs": [],
   "source": [
    "# visualization libraries\n",
    "import matplotlib.pyplot as plt\n",
    "import numpy as np\n",
    "import re\n",
    "\n",
    "# pytorch libraries\n",
    "import torch # the main pytorch library\n",
    "import torch.nn as nn # the sub-library containing Softmax, Module and other useful functions\n",
    "import torch.optim as optim # the sub-library containing the common optimizers (SGD, Adam, etc.)\n",
    "\n",
    "# huggingface's transformers library\n",
    "from transformers import RobertaForTokenClassification, RobertaTokenizer\n",
    "\n",
    "# huggingface's datasets library\n",
    "from datasets import load_dataset, Dataset, DatasetDict, Features, Value\n",
    "from datasets.features import Sequence, ClassLabel\n",
    "\n",
    "# the tqdm library used to show the iteration progress\n",
    "import tqdm\n",
    "tqdmn = tqdm.notebook.tqdm"
   ]
  },
  {
   "cell_type": "code",
   "execution_count": 2,
   "id": "0a2721e4-962d-45ae-92db-9f23484abca2",
   "metadata": {},
   "outputs": [],
   "source": [
    "roberta_version = 'roberta-base'\n",
    "tokenizer = RobertaTokenizer.from_pretrained(roberta_version)"
   ]
  },
  {
   "cell_type": "code",
   "execution_count": 3,
   "id": "c9ec3796-0b2a-43dd-82b2-8b2e2d4fc0f4",
   "metadata": {},
   "outputs": [
    {
     "name": "stderr",
     "output_type": "stream",
     "text": [
      "Reusing dataset conll2003 (/home/erikt/.cache/huggingface/datasets/conll2003/conll2003/1.0.0/40e7cb6bcc374f7c349c83acd1e9352a4f09474eb691f64f364ee62eb65d0ca6)\n"
     ]
    }
   ],
   "source": [
    "dataset = load_dataset(\"conll2003\")"
   ]
  },
  {
   "cell_type": "code",
   "execution_count": 4,
   "id": "b99e6991-85a5-46e0-be9e-3237cd180a8e",
   "metadata": {},
   "outputs": [],
   "source": [
    "def read_data(file_name, ner_tag_ids):\n",
    "    data = { \"id\": [], \"tokens\": [], \"ner_tags\": [] }\n",
    "    tokens = []\n",
    "    ner_tags = []\n",
    "    infile = open(file_name, mode = \"r\", encoding = \"latin1\")\n",
    "    for line in infile:\n",
    "        if not re.search(\"^-DOCSTART-\", line):\n",
    "            try:\n",
    "                token, pos_tag, ner_tag = line.split()\n",
    "                if ner_tag not in ner_tag_ids:\n",
    "                    ner_tag_ids[ner_tag] = len(ner_tag_ids)\n",
    "                tokens.append(token)\n",
    "                ner_tags.append(ner_tag_ids[ner_tag])\n",
    "            except:\n",
    "                if len(tokens) > 0:\n",
    "                    data[\"id\"].append(str(len(data[\"id\"])))\n",
    "                    data[\"tokens\"].append(tokens)\n",
    "                    data[\"ner_tags\"].append(ner_tags)\n",
    "                    ids = []\n",
    "                    tokens = []\n",
    "                    ner_tags = []\n",
    "    if len(ids) > 0:\n",
    "        data[\"id\"].append(ids)\n",
    "        data[\"tokens\"].append(tokens)\n",
    "        data[\"ner_tags\"].append(ner_tags)\n",
    "    infile.close()\n",
    "    return [ data, ner_tag_ids ]"
   ]
  },
  {
   "cell_type": "code",
   "execution_count": 5,
   "id": "5991a280-0a27-4c29-aa92-88a0a724922c",
   "metadata": {},
   "outputs": [],
   "source": [
    "ner_tag_ids = {}\n",
    "dutch_data_train, ner_tag_ids = read_data(\"ner/data/ned.train\", ner_tag_ids)\n",
    "dutch_data_validation, ner_tag_ids = read_data(\"ner/data/ned.testa\", ner_tag_ids)\n",
    "dutch_data_test, ner_tag_ids = read_data(\"ner/data/ned.testb\", ner_tag_ids)"
   ]
  },
  {
   "cell_type": "code",
   "execution_count": 6,
   "id": "ea78b924-e743-49b5-9644-6715f0cf7f85",
   "metadata": {},
   "outputs": [],
   "source": [
    "features_id = Value('string')\n",
    "features_tokens = Sequence(Value('string'))\n",
    "features_ner_tags = Sequence(ClassLabel(names=list(ner_tag_ids.keys())))\n",
    "features = Features({\"id\": features_id, \"tokens\": features_tokens, \"ner_tags\": features_ner_tags })"
   ]
  },
  {
   "cell_type": "code",
   "execution_count": 7,
   "id": "cf905017-f9ac-4615-862e-3800b36f3445",
   "metadata": {},
   "outputs": [],
   "source": [
    "dutch_data_converted = DatasetDict({ \"train\": Dataset.from_dict(dutch_data_train, features=features),\n",
    "                                     \"validation\": Dataset.from_dict(dutch_data_validation, features=features),\n",
    "                                     \"test\": Dataset.from_dict(dutch_data_test, features=features) })"
   ]
  },
  {
   "cell_type": "code",
   "execution_count": 8,
   "id": "e7af7d2c-3a0f-4b1c-9872-a170af5d920c",
   "metadata": {},
   "outputs": [],
   "source": [
    "num_labels = dutch_data_converted[\"train\"].features['ner_tags'].feature.num_classes"
   ]
  },
  {
   "cell_type": "code",
   "execution_count": 9,
   "id": "201d18f0-74d5-4d64-9e74-e6dc4da027bb",
   "metadata": {},
   "outputs": [],
   "source": [
    "def add_encodings(example):\n",
    "    encodings = tokenizer(example['tokens'], truncation=True, padding='max_length', is_split_into_words=True)\n",
    "    labels = example['ner_tags'] + [0] * (tokenizer.model_max_length - len(example['ner_tags']))\n",
    "    return { **encodings, 'labels': labels }"
   ]
  },
  {
   "cell_type": "code",
   "execution_count": 10,
   "id": "417eae93-2bc2-4edf-9ff6-d3d9bb5c199d",
   "metadata": {},
   "outputs": [
    {
     "data": {
      "application/vnd.jupyter.widget-view+json": {
       "model_id": "d45063c8632e4bdf98af9e8ace2fecc7",
       "version_major": 2,
       "version_minor": 0
      },
      "text/plain": [
       "HBox(children=(FloatProgress(value=0.0, max=15806.0), HTML(value='')))"
      ]
     },
     "metadata": {},
     "output_type": "display_data"
    },
    {
     "name": "stdout",
     "output_type": "stream",
     "text": [
      "\n"
     ]
    },
    {
     "data": {
      "application/vnd.jupyter.widget-view+json": {
       "model_id": "5c20610dbdd3464ab394f5f4d11589e3",
       "version_major": 2,
       "version_minor": 0
      },
      "text/plain": [
       "HBox(children=(FloatProgress(value=0.0, max=2895.0), HTML(value='')))"
      ]
     },
     "metadata": {},
     "output_type": "display_data"
    },
    {
     "name": "stdout",
     "output_type": "stream",
     "text": [
      "\n"
     ]
    },
    {
     "data": {
      "application/vnd.jupyter.widget-view+json": {
       "model_id": "18bc466e0b1d459ebb773402c2112f4c",
       "version_major": 2,
       "version_minor": 0
      },
      "text/plain": [
       "HBox(children=(FloatProgress(value=0.0, max=5195.0), HTML(value='')))"
      ]
     },
     "metadata": {},
     "output_type": "display_data"
    },
    {
     "name": "stdout",
     "output_type": "stream",
     "text": [
      "\n"
     ]
    }
   ],
   "source": [
    "dutch_data_converted = dutch_data_converted.map(add_encodings)"
   ]
  },
  {
   "cell_type": "code",
   "execution_count": 11,
   "id": "5c24c577-90cf-492d-b23d-09e165388d6b",
   "metadata": {},
   "outputs": [],
   "source": [
    "dutch_data_converted.set_format(type='torch', columns=['input_ids', 'attention_mask', 'labels'])"
   ]
  },
  {
   "cell_type": "code",
   "execution_count": 12,
   "id": "abb80fb8-8e2c-4f43-b10d-6430b97feb3c",
   "metadata": {},
   "outputs": [],
   "source": [
    "labels = dutch_data_converted['train'].features['ner_tags'].feature\n",
    "label2id = { k: labels.str2int(k) for k in labels.names }\n",
    "id2label = { v: k for k, v in label2id.items() }"
   ]
  },
  {
   "cell_type": "code",
   "execution_count": 13,
   "id": "224b51a7-867f-4acf-82e5-91b9adde6d2f",
   "metadata": {},
   "outputs": [
    {
     "name": "stderr",
     "output_type": "stream",
     "text": [
      "Some weights of the model checkpoint at roberta-base were not used when initializing RobertaForTokenClassification: ['lm_head.bias', 'lm_head.dense.weight', 'lm_head.dense.bias', 'lm_head.layer_norm.weight', 'lm_head.layer_norm.bias', 'lm_head.decoder.weight']\n",
      "- This IS expected if you are initializing RobertaForTokenClassification from the checkpoint of a model trained on another task or with another architecture (e.g. initializing a BertForSequenceClassification model from a BertForPreTraining model).\n",
      "- This IS NOT expected if you are initializing RobertaForTokenClassification from the checkpoint of a model that you expect to be exactly identical (initializing a BertForSequenceClassification model from a BertForSequenceClassification model).\n",
      "Some weights of RobertaForTokenClassification were not initialized from the model checkpoint at roberta-base and are newly initialized: ['classifier.weight', 'classifier.bias']\n",
      "You should probably TRAIN this model on a down-stream task to be able to use it for predictions and inference.\n"
     ]
    }
   ],
   "source": [
    "model = RobertaForTokenClassification.from_pretrained(roberta_version, num_labels=num_labels)\n",
    "model.config.id2label = id2label\n",
    "model.config.label2id = label2id"
   ]
  },
  {
   "cell_type": "code",
   "execution_count": 14,
   "id": "3b84b2ff-a148-430a-ab00-273a50f77d51",
   "metadata": {},
   "outputs": [],
   "source": [
    "device = torch.device(\"cuda\" if torch.cuda.is_available() else \"cpu\")"
   ]
  },
  {
   "cell_type": "code",
   "execution_count": 15,
   "id": "db2b64d4-abfa-4223-adf2-ec51643cea53",
   "metadata": {},
   "outputs": [],
   "source": [
    "model.train().to(device)\n",
    "optimizer = optim.AdamW(params=model.parameters(), lr=1e-5)"
   ]
  },
  {
   "cell_type": "code",
   "execution_count": 16,
   "id": "ee7804b5-dd2d-4cef-aabc-4f12c6b09688",
   "metadata": {},
   "outputs": [],
   "source": [
    "n_epochs = 1\n",
    "train_data = torch.utils.data.DataLoader(dutch_data_converted['validation'], batch_size=4)"
   ]
  },
  {
   "cell_type": "code",
   "execution_count": 17,
   "id": "a3ffcffb-dce4-48a0-8e70-ba26f7b18265",
   "metadata": {},
   "outputs": [
    {
     "data": {
      "application/vnd.jupyter.widget-view+json": {
       "model_id": "446c1527981d4149b4f13fcd01029c39",
       "version_major": 2,
       "version_minor": 0
      },
      "text/plain": [
       "HBox(children=(FloatProgress(value=0.0, max=1.0), HTML(value='')))"
      ]
     },
     "metadata": {},
     "output_type": "display_data"
    },
    {
     "data": {
      "application/vnd.jupyter.widget-view+json": {
       "model_id": "541a93ee9e78428d82fe774c150adc92",
       "version_major": 2,
       "version_minor": 0
      },
      "text/plain": [
       "HBox(children=(FloatProgress(value=0.0, max=724.0), HTML(value='')))"
      ]
     },
     "metadata": {},
     "output_type": "display_data"
    },
    {
     "name": "stdout",
     "output_type": "stream",
     "text": [
      "\n",
      "\n"
     ]
    }
   ],
   "source": [
    "train_loss = []\n",
    "for epoch in tqdmn(range(n_epochs)):\n",
    "    current_loss = 0\n",
    "    for i, batch in enumerate(tqdmn(train_data)):\n",
    "        if i >= 100:\n",
    "            break\n",
    "        batch = { k: v.to(device) for k, v in batch.items() }\n",
    "        outputs = model(**batch)\n",
    "        loss = outputs[0]\n",
    "        loss.backward()\n",
    "        current_loss += loss.item()\n",
    "        if i % 8 == 0 and i > 0:\n",
    "            optimizer.step()\n",
    "            optimizer.zero_grad()\n",
    "            train_loss.append(current_loss / 32)\n",
    "            current_loss = 0\n",
    "    optimizer.step()\n",
    "    optimizer.zero_grad()"
   ]
  },
  {
   "cell_type": "code",
   "execution_count": 18,
   "id": "6f4ab125-886e-4607-b06c-408e91533803",
   "metadata": {},
   "outputs": [
    {
     "data": {
      "image/png": "[encoded data removed]",
      "text/plain": [
       "<Figure size 720x288 with 1 Axes>"
      ]
     },
     "metadata": {
      "needs_background": "light"
     },
     "output_type": "display_data"
    }
   ],
   "source": [
    "fig, ax = plt.subplots(figsize=(10, 4))\n",
    "ax.plot(train_loss)\n",
    "ax.set_ylabel('Loss')\n",
    "ax.set_xlabel(f'Iterations ({len(train_loss)} examples)')\n",
    "fig.tight_layout()\n",
    "plt.show()"
   ]
  },
  {
   "cell_type": "code",
   "execution_count": 19,
   "id": "9abca1c8-6ecb-4f67-8f0d-93de3439585d",
   "metadata": {},
   "outputs": [],
   "source": [
    "model = model.eval()\n",
    "test_data = torch.utils.data.DataLoader(dutch_data_converted['test'], batch_size=4)"
   ]
  },
  {
   "cell_type": "code",
   "execution_count": 20,
   "id": "1d80d0f0-7ced-4bd5-9d86-7b3073015b3d",
   "metadata": {},
   "outputs": [
    {
     "data": {
      "application/vnd.jupyter.widget-view+json": {
       "model_id": "9ee28d2cb7d943cbaedc971498d1d762",
       "version_major": 2,
       "version_minor": 0
      },
      "text/plain": [
       "HBox(children=(FloatProgress(value=0.0, max=1299.0), HTML(value='')))"
      ]
     },
     "metadata": {},
     "output_type": "display_data"
    },
    {
     "name": "stdout",
     "output_type": "stream",
     "text": [
      "\n"
     ]
    }
   ],
   "source": [
    "confusion = torch.zeros(num_labels, num_labels)\n",
    "found = 0\n",
    "missed = 0\n",
    "wrong = 0\n",
    "\n",
    "for i, batch in enumerate(tqdmn(test_data)):\n",
    "    if i >= 100:\n",
    "        break\n",
    "    with torch.no_grad():\n",
    "        batch = { k: v.to(device) for k, v in batch.items() }\n",
    "        outputs = model(**batch)\n",
    "            \n",
    "    s_lengths = batch['attention_mask'].sum(dim=1)\n",
    "    for idx, length in enumerate(s_lengths):\n",
    "        true_values = batch['labels'][idx][:length]\n",
    "        pred_values = torch.argmax(outputs[1], dim=2)[idx][:length]\n",
    "        for true, pred in zip(true_values, pred_values):\n",
    "            confusion[true.item()][pred.item()] += 1\n",
    "            if true.item() > 0:\n",
    "                if pred.item() > 0:\n",
    "                    found += 1\n",
    "                else: \n",
    "                    missed += 1\n",
    "            elif pred.item() > 0:\n",
    "                wrong += 1"
   ]
  },
  {
   "cell_type": "code",
   "execution_count": 21,
   "id": "8e47c5c8-eac6-488e-9880-222257ea5c5e",
   "metadata": {},
   "outputs": [
    {
     "name": "stdout",
     "output_type": "stream",
     "text": [
      "precision: 0.0; recall: 0.0\n"
     ]
    }
   ],
   "source": [
    "if found + wrong == 0:\n",
    "    precision = 0.0\n",
    "else:\n",
    "    precision = found / (found + wrong)\n",
    "recall = found / (found + missed)\n",
    "\n",
    "print(f\"precision: {precision}; recall: {recall}\")"
   ]
  },
  {
   "cell_type": "code",
   "execution_count": 22,
   "id": "4d3ddbb2-b31b-4bb7-a345-c9323d9a9278",
   "metadata": {},
   "outputs": [],
   "source": [
    "for i in range(num_labels):\n",
    "    confusion[i] = confusion[i] / confusion[i].sum()"
   ]
  },
  {
   "cell_type": "code",
   "execution_count": 23,
   "id": "0981737d-a3f4-4439-bd8f-dc1eb2cdc409",
   "metadata": {},
   "outputs": [
    {
     "data": {
      "image/png": "[encoded data removed]",
      "text/plain": [
       "<Figure size 720x720 with 1 Axes>"
      ]
     },
     "metadata": {
      "needs_background": "light"
     },
     "output_type": "display_data"
    }
   ],
   "source": [
    "fig, ax = plt.subplots(figsize=(10, 10))\n",
    "ax.matshow(confusion.numpy())\n",
    "\n",
    "labels = list(label2id.keys())\n",
    "ids = np.arange(len(labels))\n",
    "\n",
    "ax.set_ylabel('True Labels', fontsize='x-large')\n",
    "ax.set_xlabel('Pred Labels', fontsize='x-large')\n",
    "\n",
    "ax.set_xticks(ids)\n",
    "ax.set_xticklabels(labels)\n",
    "\n",
    "ax.set_yticks(ids)\n",
    "ax.set_yticklabels(labels)\n",
    "\n",
    "fig.tight_layout()\n",
    "plt.show()"
   ]
  },
  {
   "cell_type": "code",
   "execution_count": 24,
   "id": "9eccdf7b-4bea-4b20-9582-832113456959",
   "metadata": {},
   "outputs": [
    {
     "data": {
      "text/plain": [
       "array([[1., 0., 0., 0., 0., 0., 0., 0., 0.],\n",
       "       [1., 0., 0., 0., 0., 0., 0., 0., 0.],\n",
       "       [1., 0., 0., 0., 0., 0., 0., 0., 0.],\n",
       "       [1., 0., 0., 0., 0., 0., 0., 0., 0.],\n",
       "       [1., 0., 0., 0., 0., 0., 0., 0., 0.],\n",
       "       [1., 0., 0., 0., 0., 0., 0., 0., 0.],\n",
       "       [1., 0., 0., 0., 0., 0., 0., 0., 0.],\n",
       "       [1., 0., 0., 0., 0., 0., 0., 0., 0.],\n",
       "       [1., 0., 0., 0., 0., 0., 0., 0., 0.]], dtype=float32)"
      ]
     },
     "execution_count": 24,
     "metadata": {},
     "output_type": "execute_result"
    }
   ],
   "source": [
    "confusion.numpy()"
   ]
  },
  {
   "cell_type": "code",
   "execution_count": 25,
   "id": "b39f7335-a00d-4cc9-a15a-26805ae69549",
   "metadata": {},
   "outputs": [
    {
     "data": {
      "text/plain": [
       "{'O': 0,\n",
       " 'B-ORG': 1,\n",
       " 'B-MISC': 2,\n",
       " 'B-PER': 3,\n",
       " 'I-PER': 4,\n",
       " 'B-LOC': 5,\n",
       " 'I-MISC': 6,\n",
       " 'I-ORG': 7,\n",
       " 'I-LOC': 8}"
      ]
     },
     "execution_count": 25,
     "metadata": {},
     "output_type": "execute_result"
    }
   ],
   "source": [
    "ner_tag_ids"
   ]
  },
  {
   "cell_type": "markdown",
   "id": "87dbf5f5-1d56-45cc-8799-5dfb6dbd5cc6",
   "metadata": {},
   "source": [
    "## 2. SemEval-2016 Task 6¶\n",
    "\n",
    "Source: https://alt.qcri.org/semeval2016/task6/"
   ]
  },
  {
   "cell_type": "code",
   "execution_count": 10,
   "id": "7534c57c-62b0-4100-8b46-4de73c7ad057",
   "metadata": {},
   "outputs": [],
   "source": [
    "import os\n",
    "import pandas as pd\n",
    "import re"
   ]
  },
  {
   "cell_type": "code",
   "execution_count": 2,
   "id": "fb7af111-0da1-4cfb-b6b8-7b20a1f79aea",
   "metadata": {},
   "outputs": [],
   "source": [
    "train_data = pd.read_csv(\"../data/StanceDataset/train_with_newlines.csv\", encoding=\"latin1\")"
   ]
  },
  {
   "cell_type": "code",
   "execution_count": 3,
   "id": "c862ecec-1913-4ca2-af5c-0f0ed12cb2ef",
   "metadata": {},
   "outputs": [
    {
     "data": {
      "text/html": [
       "<div>\n",
       "<style scoped>\n",
       "    .dataframe tbody tr th:only-of-type {\n",
       "        vertical-align: middle;\n",
       "    }\n",
       "\n",
       "    .dataframe tbody tr th {\n",
       "        vertical-align: top;\n",
       "    }\n",
       "\n",
       "    .dataframe thead th {\n",
       "        text-align: right;\n",
       "    }\n",
       "</style>\n",
       "<table border=\"1\" class=\"dataframe\">\n",
       "  <thead>\n",
       "    <tr style=\"text-align: right;\">\n",
       "      <th></th>\n",
       "      <th>Tweet</th>\n",
       "      <th>Target</th>\n",
       "      <th>Stance</th>\n",
       "      <th>Opinion Towards</th>\n",
       "      <th>Sentiment</th>\n",
       "    </tr>\n",
       "  </thead>\n",
       "  <tbody>\n",
       "    <tr>\n",
       "      <th>0</th>\n",
       "      <td>@tedcruz And, #HandOverTheServer she wiped cle...</td>\n",
       "      <td>Hillary Clinton</td>\n",
       "      <td>AGAINST</td>\n",
       "      <td>1.  The tweet explicitly expresses opinion abo...</td>\n",
       "      <td>neg</td>\n",
       "    </tr>\n",
       "    <tr>\n",
       "      <th>1</th>\n",
       "      <td>Hillary is our best choice if we truly want to...</td>\n",
       "      <td>Hillary Clinton</td>\n",
       "      <td>FAVOR</td>\n",
       "      <td>1.  The tweet explicitly expresses opinion abo...</td>\n",
       "      <td>pos</td>\n",
       "    </tr>\n",
       "    <tr>\n",
       "      <th>2</th>\n",
       "      <td>@TheView I think our country is ready for a fe...</td>\n",
       "      <td>Hillary Clinton</td>\n",
       "      <td>AGAINST</td>\n",
       "      <td>1.  The tweet explicitly expresses opinion abo...</td>\n",
       "      <td>neg</td>\n",
       "    </tr>\n",
       "    <tr>\n",
       "      <th>3</th>\n",
       "      <td>I just gave an unhealthy amount of my hard-ear...</td>\n",
       "      <td>Hillary Clinton</td>\n",
       "      <td>AGAINST</td>\n",
       "      <td>1.  The tweet explicitly expresses opinion abo...</td>\n",
       "      <td>neg</td>\n",
       "    </tr>\n",
       "    <tr>\n",
       "      <th>4</th>\n",
       "      <td>@PortiaABoulger Thank you for adding me to you...</td>\n",
       "      <td>Hillary Clinton</td>\n",
       "      <td>NONE</td>\n",
       "      <td>3.  The tweet is not explicitly expressing opi...</td>\n",
       "      <td>pos</td>\n",
       "    </tr>\n",
       "    <tr>\n",
       "      <th>...</th>\n",
       "      <td>...</td>\n",
       "      <td>...</td>\n",
       "      <td>...</td>\n",
       "      <td>...</td>\n",
       "      <td>...</td>\n",
       "    </tr>\n",
       "    <tr>\n",
       "      <th>2909</th>\n",
       "      <td>There's a law protecting unborn eagles, but no...</td>\n",
       "      <td>Legalization of Abortion</td>\n",
       "      <td>AGAINST</td>\n",
       "      <td>1.  The tweet explicitly expresses opinion abo...</td>\n",
       "      <td>neg</td>\n",
       "    </tr>\n",
       "    <tr>\n",
       "      <th>2910</th>\n",
       "      <td>I am 1 in 3... I have had an abortion #Abortio...</td>\n",
       "      <td>Legalization of Abortion</td>\n",
       "      <td>AGAINST</td>\n",
       "      <td>2. The tweet does NOT expresses opinion about ...</td>\n",
       "      <td>other</td>\n",
       "    </tr>\n",
       "    <tr>\n",
       "      <th>2911</th>\n",
       "      <td>How dare you say my sexual preference is a cho...</td>\n",
       "      <td>Legalization of Abortion</td>\n",
       "      <td>AGAINST</td>\n",
       "      <td>2. The tweet does NOT expresses opinion about ...</td>\n",
       "      <td>neg</td>\n",
       "    </tr>\n",
       "    <tr>\n",
       "      <th>2912</th>\n",
       "      <td>Equal rights for those 'born that way', no rig...</td>\n",
       "      <td>Legalization of Abortion</td>\n",
       "      <td>AGAINST</td>\n",
       "      <td>2. The tweet does NOT expresses opinion about ...</td>\n",
       "      <td>neg</td>\n",
       "    </tr>\n",
       "    <tr>\n",
       "      <th>2913</th>\n",
       "      <td>#POTUS seals his legacy w/ 1/2 doz wins. The #...</td>\n",
       "      <td>Legalization of Abortion</td>\n",
       "      <td>AGAINST</td>\n",
       "      <td>2. The tweet does NOT expresses opinion about ...</td>\n",
       "      <td>neg</td>\n",
       "    </tr>\n",
       "  </tbody>\n",
       "</table>\n",
       "<p>2914 rows × 5 columns</p>\n",
       "</div>"
      ],
      "text/plain": [
       "                                                  Tweet  \\\n",
       "0     @tedcruz And, #HandOverTheServer she wiped cle...   \n",
       "1     Hillary is our best choice if we truly want to...   \n",
       "2     @TheView I think our country is ready for a fe...   \n",
       "3     I just gave an unhealthy amount of my hard-ear...   \n",
       "4     @PortiaABoulger Thank you for adding me to you...   \n",
       "...                                                 ...   \n",
       "2909  There's a law protecting unborn eagles, but no...   \n",
       "2910  I am 1 in 3... I have had an abortion #Abortio...   \n",
       "2911  How dare you say my sexual preference is a cho...   \n",
       "2912  Equal rights for those 'born that way', no rig...   \n",
       "2913  #POTUS seals his legacy w/ 1/2 doz wins. The #...   \n",
       "\n",
       "                        Target   Stance  \\\n",
       "0              Hillary Clinton  AGAINST   \n",
       "1              Hillary Clinton    FAVOR   \n",
       "2              Hillary Clinton  AGAINST   \n",
       "3              Hillary Clinton  AGAINST   \n",
       "4              Hillary Clinton     NONE   \n",
       "...                        ...      ...   \n",
       "2909  Legalization of Abortion  AGAINST   \n",
       "2910  Legalization of Abortion  AGAINST   \n",
       "2911  Legalization of Abortion  AGAINST   \n",
       "2912  Legalization of Abortion  AGAINST   \n",
       "2913  Legalization of Abortion  AGAINST   \n",
       "\n",
       "                                        Opinion Towards Sentiment  \n",
       "0     1.  The tweet explicitly expresses opinion abo...       neg  \n",
       "1     1.  The tweet explicitly expresses opinion abo...       pos  \n",
       "2     1.  The tweet explicitly expresses opinion abo...       neg  \n",
       "3     1.  The tweet explicitly expresses opinion abo...       neg  \n",
       "4     3.  The tweet is not explicitly expressing opi...       pos  \n",
       "...                                                 ...       ...  \n",
       "2909  1.  The tweet explicitly expresses opinion abo...       neg  \n",
       "2910  2. The tweet does NOT expresses opinion about ...     other  \n",
       "2911  2. The tweet does NOT expresses opinion about ...       neg  \n",
       "2912  2. The tweet does NOT expresses opinion about ...       neg  \n",
       "2913  2. The tweet does NOT expresses opinion about ...       neg  \n",
       "\n",
       "[2914 rows x 5 columns]"
      ]
     },
     "execution_count": 3,
     "metadata": {},
     "output_type": "execute_result"
    }
   ],
   "source": [
    "train_data"
   ]
  },
  {
   "cell_type": "code",
   "execution_count": 4,
   "id": "1263383d-1e82-4002-8fdb-6627c998a85f",
   "metadata": {},
   "outputs": [
    {
     "data": {
      "text/plain": [
       "Hillary Clinton                     689\n",
       "Feminist Movement                   664\n",
       "Legalization of Abortion            653\n",
       "Atheism                             513\n",
       "Climate Change is a Real Concern    395\n",
       "Name: Target, dtype: int64"
      ]
     },
     "execution_count": 4,
     "metadata": {},
     "output_type": "execute_result"
    }
   ],
   "source": [
    "train_data['Target'].value_counts()"
   ]
  },
  {
   "cell_type": "code",
   "execution_count": 5,
   "id": "dfecfb07-2901-4802-9b16-f1454ce97b68",
   "metadata": {},
   "outputs": [
    {
     "data": {
      "text/plain": [
       "AGAINST    1395\n",
       "NONE        766\n",
       "FAVOR       753\n",
       "Name: Stance, dtype: int64"
      ]
     },
     "execution_count": 5,
     "metadata": {},
     "output_type": "execute_result"
    }
   ],
   "source": [
    "train_data['Stance'].value_counts()"
   ]
  },
  {
   "cell_type": "code",
   "execution_count": 13,
   "id": "b345ac60-f693-49d7-81a1-ecefb48e5428",
   "metadata": {},
   "outputs": [],
   "source": [
    "DATA_DIR = \"semeval-2016/\""
   ]
  },
  {
   "cell_type": "code",
   "execution_count": 17,
   "id": "7822b765-dd50-475e-8cdd-12516e91b9d7",
   "metadata": {},
   "outputs": [],
   "source": [
    "for text_id in range(0, len(train_data)):\n",
    "    stance = re.sub(\" \", \"_\", train_data.iloc[text_id]['Stance']).lower()\n",
    "    target = re.sub(\" \", \"_\", train_data.iloc[text_id]['Target']).lower()\n",
    "    if not os.path.exists(DATA_DIR + \"/stance/\" + stance):\n",
    "        os.mkdir(DATA_DIR + \"/stance/\" + stance)\n",
    "    if not os.path.exists(DATA_DIR + \"/target/\" + target):\n",
    "        os.mkdir(DATA_DIR + \"/target/\" + target)\n",
    "    data_file_stance = open(DATA_DIR + \"/stance/\" + stance + \"/\" + str(text_id) + \".txt\", \"w\")\n",
    "    data_file_target = open(DATA_DIR + \"/target/\" + target + \"/\" + str(text_id) + \".txt\", \"w\")\n",
    "    print(train_data.iloc[text_id]['Tweet'], file=data_file_stance)\n",
    "    print(train_data.iloc[text_id]['Tweet'], file=data_file_target)\n",
    "    data_file_target.close()\n",
    "    data_file_stance.close()"
   ]
  },
  {
   "cell_type": "markdown",
   "id": "27754f0b-796c-4fa8-8736-060d91de1763",
   "metadata": {},
   "source": [
    "Next: text classification, see: https://mccormickml.com/2019/07/22/BERT-fine-tuning/"
   ]
  },
  {
   "cell_type": "markdown",
   "id": "71a1f538-6ace-46c8-ac4e-55c8f23693d3",
   "metadata": {},
   "source": [
    "## 3. BERT Fine-Tuning Tutorial with PyTorch\n",
    "\n",
    "Python code source: https://mccormickml.com/2019/07/22/BERT-fine-tuning/\n",
    "\n",
    "(re-instated from earlier version: 20210730)"
   ]
  },
  {
   "cell_type": "code",
   "execution_count": 41,
   "id": "06c9c014-0507-45f9-8a25-b1666b50ebbb",
   "metadata": {},
   "outputs": [],
   "source": [
    "from transformers import RobertaTokenizer, RobertaForSequenceClassification, AdamW, BertTokenizer, BertForSequenceClassification\n",
    "import torch\n",
    "import os\n",
    "import re\n",
    "import numpy as np\n",
    "import pandas as pd\n",
    "import matplotlib.pyplot as plt\n",
    "import seaborn as sns\n",
    "from sklearn.metrics import confusion_matrix\n",
    "from transformers import get_linear_schedule_with_warmup\n",
    "import time\n",
    "import datetime\n",
    "from torch.utils.data import TensorDataset, random_split\n",
    "from torch.utils.data import DataLoader, RandomSampler, SequentialSampler\n",
    "import numpy as np\n",
    "import random\n",
    "import numpy as np\n",
    "import time"
   ]
  },
  {
   "cell_type": "code",
   "execution_count": 31,
   "id": "280431e8-aa4b-441a-a296-2052ed90ec74",
   "metadata": {},
   "outputs": [],
   "source": [
    "#DATA_DIR = \"social_distancing\"\n",
    "#LABEL_VALUES = {'ANDERS': 0, 'EENS': 1, 'ONEENS': 2}\n",
    "DATA_DIR = \"semeval-2016/stance\"\n",
    "NBR_OF_EPOCHS = 2"
   ]
  },
  {
   "cell_type": "code",
   "execution_count": 2,
   "id": "a4ecbfe1-3ec5-4df2-9d9e-ece64e588fe7",
   "metadata": {},
   "outputs": [],
   "source": [
    "def read_text_file(file_name):\n",
    "    text_file = open(file_name, \"r\")\n",
    "    text = \"\"\n",
    "    for line in text_file.read():\n",
    "        text += line\n",
    "    text_file.close()\n",
    "    return text\n",
    "\n",
    "\n",
    "def read_data(data_dir, label_values):\n",
    "    data = []\n",
    "    for label in os.listdir(data_dir):\n",
    "        label_dir = os.path.join(data_dir, label)\n",
    "        if label not in label_values:\n",
    "            label_values[label] = len(label_values)\n",
    "        for id_file_name in os.listdir(label_dir):\n",
    "            data.append({\"text\": read_text_file(os.path.join(label_dir, id_file_name)),\n",
    "                         \"label\": label_values[label],\n",
    "                         \"id\": re.sub(\".txt$\", \"\", id_file_name) })\n",
    "    data = sorted(data, key=lambda item: item[\"id\"])\n",
    "    return [ data, label_values ]"
   ]
  },
  {
   "cell_type": "code",
   "execution_count": 3,
   "id": "b545b53f-1308-4ff0-b65b-f93a03c8f92d",
   "metadata": {},
   "outputs": [],
   "source": [
    "data, label_values = read_data(DATA_DIR, {})\n",
    "sentences = [ item[\"text\"] for item in data ]\n",
    "file_labels = [ item[\"label\"] for item in data ]"
   ]
  },
  {
   "cell_type": "code",
   "execution_count": 4,
   "id": "079f9140-8ac0-4b2c-b058-8b7a05adb1ab",
   "metadata": {},
   "outputs": [],
   "source": [
    "tokenizer = BertTokenizer.from_pretrained('bert-base-uncased', do_lower_case=True)"
   ]
  },
  {
   "cell_type": "code",
   "execution_count": 5,
   "id": "52386594-02da-424c-9220-220a484360d8",
   "metadata": {},
   "outputs": [],
   "source": [
    "def remove_initial_words(sentence, n):\n",
    "    words = sentence.strip().split()\n",
    "    return \" \".join(words[int(n):])"
   ]
  },
  {
   "cell_type": "code",
   "execution_count": 6,
   "id": "605cbecf-5f95-48d9-9281-46c00b83b020",
   "metadata": {},
   "outputs": [],
   "source": [
    "def make_input_ids(sentences, file_labels, keep_short_only=False):\n",
    "    input_ids, attention_masks, expanded_labels, sentence_sources = [], [], [], []\n",
    "    max_length = 64\n",
    "    for i in range(0, len(sentences)):\n",
    "        sentence = sentences[i]\n",
    "        while len(sentence) > 0:\n",
    "            encoded_dict = tokenizer.encode_plus(\n",
    "                                sentence,\n",
    "                                max_length = max_length,\n",
    "                                truncation=True,\n",
    "                                padding='max_length',\n",
    "                                add_special_tokens = True,\n",
    "                                return_attention_mask = True,\n",
    "                                return_tensors = 'pt',\n",
    "                           )\n",
    "            if keep_short_only and encoded_dict['attention_mask'][0][max_length-1] != 0:\n",
    "                break\n",
    "            input_ids.append(encoded_dict['input_ids'])\n",
    "            attention_masks.append(encoded_dict['attention_mask'])\n",
    "            expanded_labels.append(file_labels[i])\n",
    "            sentence_sources.append(i)\n",
    "            sentence = remove_initial_words(sentence, int(max_length/2))\n",
    "    input_ids = torch.cat(input_ids, dim=0)\n",
    "    attention_masks = torch.cat(attention_masks, dim=0)\n",
    "    labels = torch.tensor(expanded_labels)\n",
    "    return [input_ids, attention_masks, labels, sentence_sources]"
   ]
  },
  {
   "cell_type": "code",
   "execution_count": 7,
   "id": "2757a831-3ad5-4b60-90d4-c82b166f3eff",
   "metadata": {},
   "outputs": [],
   "source": [
    "def keep_short_sentences(input_ids, sentence_sources):\n",
    "    short_input_ids = []\n",
    "    for i in range(0, len(sentence_sources)):\n",
    "        if (i == 0 or sentence_sources[i] != sentence_sources[i-1]) and (i == len(sentence_sources)-1 or sentence_sources[i] != sentence_sources[i+1]):\n",
    "            short_input_ids.append(input_ids[i])\n",
    "    return torch.cat(short_input_ids, dim=0)"
   ]
  },
  {
   "cell_type": "markdown",
   "id": "d7bcb3cb-3cad-478e-b6f9-c1aa33c82d24",
   "metadata": {},
   "source": [
    "The validation include long sentences which are split in different parts (for social distancing data: 597 -> 867). The training data only contain sentences which fit in BERT's phrase space (5380 -> 3638)."
   ]
  },
  {
   "cell_type": "code",
   "execution_count": 8,
   "id": "13158202-c1a2-409b-a516-b9500948baf7",
   "metadata": {},
   "outputs": [],
   "source": [
    "def make_data(fold, sentences):\n",
    "    validation_start = int(0.1 * fold * len(sentences))\n",
    "    validation_end = int(0.1 * (fold + 1) * len(sentences))\n",
    "    input_ids, attention_masks, labels, sentence_sources_validation = make_input_ids(sentences[validation_start:validation_end], \n",
    "                                                                                     file_labels[validation_start:validation_end], \n",
    "                                                                                     keep_short_only=False)\n",
    "    val_dataset = TensorDataset(input_ids, attention_masks, labels)\n",
    "    if fold == 0:\n",
    "        training_sentences = []\n",
    "        training_file_labels = []\n",
    "    else:\n",
    "        training_sentences = sentences[:validation_start]\n",
    "        training_file_labels = file_labels[:validation_start]\n",
    "    if fold < 9:\n",
    "        training_sentences.extend(sentences[validation_end:])\n",
    "        training_file_labels.extend(file_labels[validation_end:])\n",
    "    input_ids, attention_masks, labels, _ = make_input_ids(training_sentences, training_file_labels, keep_short_only=True)\n",
    "    train_dataset = TensorDataset(input_ids, attention_masks, labels)\n",
    "    return [ train_dataset, val_dataset, sentence_sources_validation ]"
   ]
  },
  {
   "cell_type": "code",
   "execution_count": 9,
   "id": "d10f5ca4-08d3-4baa-aefb-efbfdb5647c6",
   "metadata": {},
   "outputs": [],
   "source": [
    "def make_experiment(fold, sentences):\n",
    "    train_dataset, val_dataset, sentence_sources_validation = make_data(fold, sentences)\n",
    "    print(f\"fold: {fold}; train size: {len(train_dataset)}; validation size: {len(val_dataset)}\")\n",
    "    batch_size = 32\n",
    "    train_dataloader = DataLoader(\n",
    "                train_dataset,\n",
    "                sampler = RandomSampler(train_dataset),\n",
    "                batch_size = batch_size\n",
    "            )\n",
    "    validation_dataloader = DataLoader(\n",
    "                val_dataset,\n",
    "                sampler = SequentialSampler(val_dataset),\n",
    "                batch_size = batch_size\n",
    "            )\n",
    "    optimizer = AdamW(model.parameters(),\n",
    "                      lr = 2e-5,\n",
    "                      eps = 1e-8\n",
    "                    )\n",
    "    epochs = NBR_OF_EPOCHS\n",
    "    total_steps = len(train_dataloader) * epochs\n",
    "    scheduler = get_linear_schedule_with_warmup(optimizer, \n",
    "                                                num_warmup_steps = 0,\n",
    "                                                num_training_steps = total_steps)\n",
    "    return [ train_dataset, val_dataset, train_dataloader, validation_dataloader, batch_size, epochs, total_steps, optimizer, scheduler, sentence_sources_validation ]"
   ]
  },
  {
   "cell_type": "code",
   "execution_count": 10,
   "id": "287647eb-0910-4694-ada3-9e3faddfaeaf",
   "metadata": {},
   "outputs": [],
   "source": [
    "def flat_accuracy(preds, labels):\n",
    "    pred_flat = np.argmax(preds, axis=1).flatten()\n",
    "    labels_flat = labels.flatten()\n",
    "    return np.sum(pred_flat == labels_flat) / len(labels_flat)"
   ]
  },
  {
   "cell_type": "code",
   "execution_count": 11,
   "id": "82ff1fbd-9783-440a-8297-bc8b401fa4db",
   "metadata": {},
   "outputs": [],
   "source": [
    "def format_time(elapsed):\n",
    "    elapsed_rounded = int(round((elapsed)))\n",
    "    return str(datetime.timedelta(seconds=elapsed_rounded))"
   ]
  },
  {
   "cell_type": "code",
   "execution_count": 12,
   "id": "8cf24ec2-abf3-415a-8ff4-8fcc7659459e",
   "metadata": {},
   "outputs": [],
   "source": [
    "def get_prediction_labels(predictions):\n",
    "    prediction_labels = []\n",
    "    for i in range(len(predictions)):\n",
    "        prediction_labels.extend(np.argmax(predictions[i], axis=1).flatten())\n",
    "    return prediction_labels"
   ]
  },
  {
   "cell_type": "code",
   "execution_count": 13,
   "id": "e3a81766-317b-4202-b70f-bf0beca67b2d",
   "metadata": {},
   "outputs": [],
   "source": [
    "def collapse_labels(true_labels, predictions, sentence_sources, label_values):\n",
    "    prediction_labels = get_prediction_labels(predictions)\n",
    "    true_labels_flattened = []\n",
    "    for array in true_labels:\n",
    "         true_labels_flattened.extend(array)\n",
    "    prediction_labels_collapsed = []\n",
    "    true_labels_collapsed = []\n",
    "    for i in range(0, len(sentence_sources)):\n",
    "        if i == 0 or sentence_sources[i] != sentence_sources[i-1]:\n",
    "            prediction_labels_collapsed.append(prediction_labels[i])\n",
    "            true_labels_collapsed.append(true_labels_flattened[i])\n",
    "        elif prediction_labels[i] != label_values['ANDERS']:\n",
    "            prediction_labels_collapsed[-1] = prediction_labels[i]\n",
    "    return [ true_labels_collapsed, prediction_labels_collapsed ]"
   ]
  },
  {
   "cell_type": "code",
   "execution_count": 14,
   "id": "2b6d23a9-20a1-4d82-8413-788b60d0ff92",
   "metadata": {},
   "outputs": [],
   "source": [
    "def train_model(model, train_dataloader, device, optimizer, scheduler):\n",
    "    print('======== Epoch {:} / {:} ========'.format(epoch_i + 1, epochs))\n",
    "    print('Training...')\n",
    "\n",
    "    t0 = time.time()\n",
    "    total_train_loss = 0\n",
    "    model.train()\n",
    "\n",
    "    for step, batch in enumerate(train_dataloader):\n",
    "        if step % 10 == 0 and not step == 0:\n",
    "            elapsed = format_time(time.time() - t0)\n",
    "            print('  Batch {:>5,}  of  {:>5,}.    Elapsed: {:}    Loss: {:.3f}.'.format(step, len(train_dataloader), elapsed, total_train_loss/step))\n",
    "        b_input_ids = batch[0].to(device)\n",
    "        b_input_mask = batch[1].to(device)\n",
    "        b_labels = batch[2].long().to(device)\n",
    "        model.zero_grad()        \n",
    "        model_output = model(b_input_ids, \n",
    "                             token_type_ids=None, \n",
    "                             attention_mask=b_input_mask, \n",
    "                             labels=b_labels)\n",
    "        loss = model_output[\"loss\"]\n",
    "        logits = model_output[\"logits\"]\n",
    "        total_train_loss += loss.item()\n",
    "        loss.backward()\n",
    "        torch.nn.utils.clip_grad_norm_(model.parameters(), 1.0)\n",
    "        optimizer.step()\n",
    "        scheduler.step()\n",
    "    avg_train_loss = total_train_loss / len(train_dataloader)            \n",
    "    training_time = format_time(time.time() - t0)\n",
    "    print(\"\")\n",
    "    print(\"  Average training loss: {0:.3f}\".format(avg_train_loss))\n",
    "    print(\"  Training epoch took: {:}\".format(training_time))\n",
    "    return avg_train_loss, training_time"
   ]
  },
  {
   "cell_type": "code",
   "execution_count": 15,
   "id": "ff52706a-01c3-46e3-8ace-3a0d49b43615",
   "metadata": {},
   "outputs": [],
   "source": [
    "def validate_model(model, validation_dataloader, device, sentence_sources_validation, label_values):\n",
    "    print(\"\")\n",
    "    print(\"Running Validation...\")\n",
    "    t0 = time.time()\n",
    "    model.eval()\n",
    "    total_eval_accuracy = 0\n",
    "    total_eval_loss = 0\n",
    "    nb_eval_steps = 0\n",
    "    logits_total, label_ids_total = [], []\n",
    "    for batch in validation_dataloader:\n",
    "        b_input_ids = batch[0].to(device)\n",
    "        b_input_mask = batch[1].to(device)\n",
    "        b_labels = batch[2].to(device)\n",
    "        with torch.no_grad():        \n",
    "            model_output = model(b_input_ids, \n",
    "                                   token_type_ids=None, \n",
    "                                   attention_mask=b_input_mask,\n",
    "                                   labels=b_labels)\n",
    "        loss = model_output[\"loss\"]\n",
    "        logits = model_output[\"logits\"]\n",
    "        total_eval_loss += loss.item()\n",
    "        logits = logits.detach().cpu().numpy()\n",
    "        label_ids = b_labels.to('cpu').numpy()\n",
    "        total_eval_accuracy += flat_accuracy(logits, label_ids)\n",
    "        logits_total.append(logits)\n",
    "        label_ids_total.append(label_ids)\n",
    "    true_labels_collapsed, prediction_labels_collapsed = collapse_labels(label_ids_total, logits_total, sentence_sources_validation, label_values)\n",
    "    print(confusion_matrix(true_labels_collapsed, prediction_labels_collapsed))\n",
    "    avg_val_accuracy = total_eval_accuracy / len(validation_dataloader)\n",
    "    print(\"  Accuracy: {0:.3f}\".format(avg_val_accuracy))\n",
    "    avg_val_loss = total_eval_loss / len(validation_dataloader)\n",
    "    validation_time = format_time(time.time() - t0)\n",
    "    print(\"  Validation Loss: {0:.3f}\".format(avg_val_loss))\n",
    "    print(\"  Validation took: {:}\".format(validation_time))\n",
    "    return [ avg_val_accuracy, avg_val_loss, validation_time, true_labels_collapsed, prediction_labels_collapsed ]"
   ]
  },
  {
   "cell_type": "code",
   "execution_count": 32,
   "id": "a591a253-509f-420e-825d-fe337822a934",
   "metadata": {},
   "outputs": [
    {
     "name": "stderr",
     "output_type": "stream",
     "text": [
      "Some weights of the model checkpoint at pdelobelle/robbert-v2-dutch-base were not used when initializing RobertaForSequenceClassification: ['lm_head.bias', 'lm_head.dense.bias', 'lm_head.decoder.bias', 'lm_head.layer_norm.weight', 'lm_head.layer_norm.bias', 'lm_head.decoder.weight', 'lm_head.dense.weight']\n",
      "- This IS expected if you are initializing RobertaForSequenceClassification from the checkpoint of a model trained on another task or with another architecture (e.g. initializing a BertForSequenceClassification model from a BertForPreTraining model).\n",
      "- This IS NOT expected if you are initializing RobertaForSequenceClassification from the checkpoint of a model that you expect to be exactly identical (initializing a BertForSequenceClassification model from a BertForSequenceClassification model).\n",
      "Some weights of RobertaForSequenceClassification were not initialized from the model checkpoint at pdelobelle/robbert-v2-dutch-base and are newly initialized: ['classifier.dense.weight', 'classifier.dense.bias', 'classifier.out_proj.weight', 'classifier.out_proj.bias']\n",
      "You should probably TRAIN this model on a down-stream task to be able to use it for predictions and inference.\n"
     ]
    },
    {
     "name": "stdout",
     "output_type": "stream",
     "text": [
      "fold: 0; train size: 2623; validation size: 291\n",
      "======== Fold  0 ============\n",
      "======== Epoch 1 / 2 ========\n",
      "Training...\n",
      "  Batch    10  of     82.    Elapsed: 0:02:06    Loss: 1.051.\n",
      "  Batch    20  of     82.    Elapsed: 0:03:40    Loss: 1.068.\n",
      "  Batch    30  of     82.    Elapsed: 0:05:20    Loss: 1.057.\n",
      "  Batch    40  of     82.    Elapsed: 0:07:12    Loss: 1.064.\n",
      "  Batch    50  of     82.    Elapsed: 0:08:51    Loss: 1.061.\n",
      "  Batch    60  of     82.    Elapsed: 0:10:25    Loss: 1.052.\n",
      "  Batch    70  of     82.    Elapsed: 0:12:03    Loss: 1.046.\n",
      "  Batch    80  of     82.    Elapsed: 0:13:41    Loss: 1.050.\n",
      "\n",
      "  Average training loss: 1.050\n",
      "  Training epoch took: 0:14:01\n",
      "\n",
      "Running Validation...\n",
      "[[ 86   0   0]\n",
      " [ 63   0   0]\n",
      " [139   3   0]]\n",
      "  Accuracy: 0.269\n",
      "  Validation Loss: 1.234\n",
      "  Validation took: 0:00:28\n",
      "======== Epoch 2 / 2 ========\n",
      "Training...\n",
      "  Batch    10  of     82.    Elapsed: 0:01:39    Loss: 1.003.\n",
      "  Batch    20  of     82.    Elapsed: 0:03:59    Loss: 1.018.\n",
      "  Batch    30  of     82.    Elapsed: 0:08:53    Loss: 1.023.\n",
      "  Batch    40  of     82.    Elapsed: 0:12:28    Loss: 1.020.\n",
      "  Batch    50  of     82.    Elapsed: 0:15:11    Loss: 1.012.\n",
      "  Batch    60  of     82.    Elapsed: 0:16:46    Loss: 1.012.\n",
      "  Batch    70  of     82.    Elapsed: 0:18:24    Loss: 1.015.\n",
      "  Batch    80  of     82.    Elapsed: 0:20:04    Loss: 1.014.\n",
      "\n",
      "  Average training loss: 1.012\n",
      "  Training epoch took: 0:20:23\n",
      "\n",
      "Running Validation...\n",
      "[[ 86   0   0]\n",
      " [ 59   4   0]\n",
      " [137   5   0]]\n",
      "  Accuracy: 0.281\n",
      "  Validation Loss: 1.209\n",
      "  Validation took: 0:00:26\n",
      "\n",
      "Total training took 0:35:18 (h:mm:ss)\n"
     ]
    }
   ],
   "source": [
    "true_labels = []\n",
    "predicted_labels = []\n",
    "for fold in range(0, 1):\n",
    "    model = RobertaForSequenceClassification.from_pretrained(\"pdelobelle/robbert-v2-dutch-base\", num_labels = len(label_values))\n",
    "    train_dataset, val_dataset, train_dataloader, validation_dataloader, batch_size, epochs, total_steps, optimizer, scheduler, sentence_sources_validation = \\\n",
    "        make_experiment(fold, sentences)\n",
    "    seed_val = 42\n",
    "    random.seed(seed_val)\n",
    "    np.random.seed(seed_val)\n",
    "    torch.manual_seed(seed_val)\n",
    "    if torch.cuda.is_available():\n",
    "         torch.cuda.manual_seed_all(seed_val)\n",
    "    training_stats = []\n",
    "    total_t0 = time.time()\n",
    "\n",
    "    device = torch.device(\"cpu\")\n",
    "    print(f\"======== Fold {fold:2d} ============\")\n",
    "    for epoch_i in range(0, epochs):\n",
    "        avg_train_loss, training_time = train_model(model, train_dataloader, device, optimizer, scheduler)\n",
    "        avg_val_accuracy, avg_val_loss, validation_time, true_labels_collapsed, prediction_labels_collapsed = \\\n",
    "            validate_model(model, validation_dataloader, device, sentence_sources_validation, label_values)\n",
    "        training_stats.append(\n",
    "            {\n",
    "                'epoch': epoch_i + 1,\n",
    "                'Training Loss': avg_train_loss,\n",
    "                'Valid. Loss': avg_val_loss,\n",
    "                'Valid. Accur.': avg_val_accuracy,\n",
    "                'Training Time': training_time,\n",
    "                'Validation Time': validation_time\n",
    "            }\n",
    "        )\n",
    "    true_labels.extend(true_labels_collapsed)\n",
    "    predicted_labels.extend(prediction_labels_collapsed)\n",
    "    print(\"\")\n",
    "    print(\"Total training took {:} (h:mm:ss)\".format(format_time(time.time()-total_t0)))"
   ]
  },
  {
   "cell_type": "code",
   "execution_count": 33,
   "id": "3fa6957d-f3fe-4528-a852-5ceb94b46050",
   "metadata": {},
   "outputs": [
    {
     "data": {
      "text/plain": [
       "array([[ 86,   0,   0],\n",
       "       [ 59,   4,   0],\n",
       "       [137,   5,   0]])"
      ]
     },
     "execution_count": 33,
     "metadata": {},
     "output_type": "execute_result"
    }
   ],
   "source": [
    "confusion_matrix(true_labels, predicted_labels)"
   ]
  },
  {
   "cell_type": "code",
   "execution_count": 34,
   "id": "0b54db26-32a6-4a18-838a-79a50e6958a4",
   "metadata": {},
   "outputs": [],
   "source": [
    "def get_accuracy(cm):\n",
    "    correct = 0\n",
    "    wrong = 0\n",
    "    for i in range(0, len(cm)):\n",
    "        for j in range(0, len(cm)):\n",
    "            if i == j:\n",
    "                correct += cm[i][j]\n",
    "            else:\n",
    "                wrong += cm[i][j]\n",
    "    return correct/(correct+wrong)"
   ]
  },
  {
   "cell_type": "code",
   "execution_count": 35,
   "id": "4da795cb-9e0f-4562-b2a1-15209973beda",
   "metadata": {},
   "outputs": [
    {
     "data": {
      "text/plain": [
       "0.30927835051546393"
      ]
     },
     "execution_count": 35,
     "metadata": {},
     "output_type": "execute_result"
    }
   ],
   "source": [
    "get_accuracy(confusion_matrix(true_labels, predicted_labels))"
   ]
  },
  {
   "cell_type": "code",
   "execution_count": 36,
   "id": "e5c83fd8-9693-4835-a69c-fecb4789aaa0",
   "metadata": {},
   "outputs": [],
   "source": [
    "def training_overview(training_stats):\n",
    "    pd.set_option('precision', 2)\n",
    "    df_stats = pd.DataFrame(data=training_stats)\n",
    "    df_stats = df_stats.set_index('epoch')\n",
    "    return df_stats"
   ]
  },
  {
   "cell_type": "code",
   "execution_count": 37,
   "id": "0cdd255d-d8b7-4083-bd76-fbe09b25ef06",
   "metadata": {},
   "outputs": [],
   "source": [
    "def training_graph(df_stats):\n",
    "    sns.set(style='darkgrid')\n",
    "    sns.set(font_scale=1.5)\n",
    "    plt.rcParams[\"figure.figsize\"] = (6,4)\n",
    "    plt.plot(df_stats['Training Loss'], 'b-o', label=\"Training\")\n",
    "    plt.plot(df_stats['Valid. Loss'], 'g-o', label=\"Validation\")\n",
    "    plt.title(\"Training & Validation Loss\")\n",
    "    plt.xlabel(\"Epoch\")\n",
    "    plt.ylabel(\"Loss\")\n",
    "    plt.legend()\n",
    "    plt.xticks()\n",
    "    plt.show()"
   ]
  },
  {
   "cell_type": "code",
   "execution_count": 38,
   "id": "55019df5-e4d8-4149-9ed8-d1d48a0ff3fa",
   "metadata": {},
   "outputs": [
    {
     "data": {
      "image/png": "[encoded data removed]",
      "text/plain": [
       "<Figure size 432x288 with 1 Axes>"
      ]
     },
     "metadata": {},
     "output_type": "display_data"
    },
    {
     "data": {
      "text/html": [
       "<div>\n",
       "<style scoped>\n",
       "    .dataframe tbody tr th:only-of-type {\n",
       "        vertical-align: middle;\n",
       "    }\n",
       "\n",
       "    .dataframe tbody tr th {\n",
       "        vertical-align: top;\n",
       "    }\n",
       "\n",
       "    .dataframe thead th {\n",
       "        text-align: right;\n",
       "    }\n",
       "</style>\n",
       "<table border=\"1\" class=\"dataframe\">\n",
       "  <thead>\n",
       "    <tr style=\"text-align: right;\">\n",
       "      <th></th>\n",
       "      <th>Training Loss</th>\n",
       "      <th>Valid. Loss</th>\n",
       "      <th>Valid. Accur.</th>\n",
       "      <th>Training Time</th>\n",
       "      <th>Validation Time</th>\n",
       "    </tr>\n",
       "    <tr>\n",
       "      <th>epoch</th>\n",
       "      <th></th>\n",
       "      <th></th>\n",
       "      <th></th>\n",
       "      <th></th>\n",
       "      <th></th>\n",
       "    </tr>\n",
       "  </thead>\n",
       "  <tbody>\n",
       "    <tr>\n",
       "      <th>1</th>\n",
       "      <td>1.05</td>\n",
       "      <td>1.23</td>\n",
       "      <td>0.27</td>\n",
       "      <td>0:14:01</td>\n",
       "      <td>0:00:28</td>\n",
       "    </tr>\n",
       "    <tr>\n",
       "      <th>2</th>\n",
       "      <td>1.01</td>\n",
       "      <td>1.21</td>\n",
       "      <td>0.28</td>\n",
       "      <td>0:20:23</td>\n",
       "      <td>0:00:26</td>\n",
       "    </tr>\n",
       "  </tbody>\n",
       "</table>\n",
       "</div>"
      ],
      "text/plain": [
       "       Training Loss  Valid. Loss  Valid. Accur. Training Time Validation Time\n",
       "epoch                                                                         \n",
       "1               1.05         1.23           0.27       0:14:01         0:00:28\n",
       "2               1.01         1.21           0.28       0:20:23         0:00:26"
      ]
     },
     "execution_count": 38,
     "metadata": {},
     "output_type": "execute_result"
    }
   ],
   "source": [
    "df_stats = training_overview(training_stats)\n",
    "training_graph(df_stats)\n",
    "df_stats"
   ]
  },
  {
   "cell_type": "code",
   "execution_count": 39,
   "id": "5beab880-0607-4c03-9e04-82801f1e84f0",
   "metadata": {},
   "outputs": [],
   "source": [
    "def process_test_data(test_dataloader, test_dataset):\n",
    "    print('Predicting labels for {:,} test sentences...'.format(len(test_dataset)))\n",
    "    model.eval()\n",
    "    predictions , true_labels = [], []\n",
    "    for batch in test_dataloader:\n",
    "        batch = tuple(t.to(device) for t in batch)\n",
    "        b_input_ids, b_input_mask, b_labels = batch\n",
    "        with torch.no_grad():\n",
    "            outputs = model(b_input_ids, token_type_ids=None, \n",
    "                            attention_mask=b_input_mask)\n",
    "        logits = outputs[0]\n",
    "        logits = logits.detach().cpu().numpy()\n",
    "        label_ids = b_labels.to('cpu').numpy()\n",
    "        predictions.append(logits)\n",
    "        true_labels.append(label_ids)\n",
    "    print('    DONE.')\n",
    "    return [ true_labels, predictions ]"
   ]
  },
  {
   "cell_type": "code",
   "execution_count": 40,
   "id": "22129e03-79d7-434a-9081-c7cc2c778b07",
   "metadata": {},
   "outputs": [],
   "source": [
    "def show_evaluation_results(true_labels, predictions):\n",
    "    prediction_labels = get_prediction_labels(predictions)\n",
    "    true_labels_flattened = []\n",
    "    for array in true_labels:\n",
    "         true_labels_flattened.extend(array)\n",
    "    print(label_values)\n",
    "    return confusion_matrix(true_labels_flattened, prediction_labels)"
   ]
  },
  {
   "cell_type": "code",
   "execution_count": 44,
   "id": "059de165-9abc-44cd-800b-7014db8fbeef",
   "metadata": {},
   "outputs": [
    {
     "name": "stdout",
     "output_type": "stream",
     "text": [
      "Predicting labels for 291 test sentences...\n",
      "    DONE.\n",
      "running time: 24 seconds\n"
     ]
    }
   ],
   "source": [
    "start_time = time.time()\n",
    "true_labels, predictions = process_test_data(validation_dataloader, val_dataset)\n",
    "print(f\"running time: {int(time.time() - start_time)} seconds\")"
   ]
  },
  {
   "cell_type": "code",
   "execution_count": 45,
   "id": "ec89fbe2-7f9c-40cc-935c-5da9ff427f9f",
   "metadata": {},
   "outputs": [],
   "source": [
    "true_labels_collapsed, predictions_collapsed = collapse_labels(true_labels, predictions, sentence_sources_validation, label_values)"
   ]
  },
  {
   "cell_type": "code",
   "execution_count": 46,
   "id": "29ea5b61-cc9d-4c89-9c63-b5458ff62558",
   "metadata": {},
   "outputs": [
    {
     "name": "stdout",
     "output_type": "stream",
     "text": [
      "accuracy: 0.309\n",
      "[[ 86   0   0]\n",
      " [ 59   4   0]\n",
      " [137   5   0]]\n"
     ]
    }
   ],
   "source": [
    "cm = confusion_matrix(true_labels_collapsed, predictions_collapsed)\n",
    "print(f\"accuracy: {get_accuracy(cm):.3f}\")\n",
    "print(cm)"
   ]
  },
  {
   "cell_type": "code",
   "execution_count": 47,
   "id": "ddc9d469-c063-4081-8d6d-b15d752f373d",
   "metadata": {},
   "outputs": [
    {
     "data": {
      "text/plain": [
       "291"
      ]
     },
     "execution_count": 47,
     "metadata": {},
     "output_type": "execute_result"
    }
   ],
   "source": [
    "total_list = []\n",
    "for x in true_labels:\n",
    "    total_list.extend(x)\n",
    "len(total_list)"
   ]
  },
  {
   "cell_type": "code",
   "execution_count": 48,
   "id": "608fa6c4-2a2a-4b44-826d-b2e597085e50",
   "metadata": {},
   "outputs": [
    {
     "data": {
      "text/plain": [
       "291"
      ]
     },
     "execution_count": 48,
     "metadata": {},
     "output_type": "execute_result"
    }
   ],
   "source": [
    "len(predicted_labels)"
   ]
  },
  {
   "cell_type": "code",
   "execution_count": 49,
   "id": "a44ef5a3-0b86-4195-8767-d514dfbc7166",
   "metadata": {},
   "outputs": [
    {
     "data": {
      "text/plain": [
       "{'against': 0, 'none': 1, 'favor': 2}"
      ]
     },
     "execution_count": 49,
     "metadata": {},
     "output_type": "execute_result"
    }
   ],
   "source": [
    "label_values"
   ]
  },
  {
   "cell_type": "code",
   "execution_count": 56,
   "id": "3489081b-5716-4778-bed3-ab1399961326",
   "metadata": {},
   "outputs": [
    {
     "data": {
      "text/plain": [
       "0    282\n",
       "1      9\n",
       "dtype: Int64"
      ]
     },
     "execution_count": 56,
     "metadata": {},
     "output_type": "execute_result"
    }
   ],
   "source": [
    "pd.array(predicted_labels).value_counts()"
   ]
  },
  {
   "cell_type": "code",
   "execution_count": 59,
   "id": "e601d218-d0a4-4c0b-b108-2140baf95f5f",
   "metadata": {},
   "outputs": [
    {
     "data": {
      "text/plain": [
       "2914"
      ]
     },
     "execution_count": 59,
     "metadata": {},
     "output_type": "execute_result"
    }
   ],
   "source": [
    "len(sentences)"
   ]
  },
  {
   "cell_type": "code",
   "execution_count": 71,
   "id": "777145d8-db89-4018-a0e9-f262c8744f4f",
   "metadata": {},
   "outputs": [],
   "source": [
    "def show_ids(string):\n",
    "    for i in range(0,len(sentences)):\n",
    "        if re.search(string, sentences[i],re.IGNORECASE):\n",
    "            print(i, end=\" \")"
   ]
  },
  {
   "cell_type": "code",
   "execution_count": 72,
   "id": "fe3a435b-df73-4723-924a-112a8cb5c7d9",
   "metadata": {},
   "outputs": [
    {
     "name": "stdout",
     "output_type": "stream",
     "text": [
      "207 350 351 352 642 719 1462 1473 1474 1477 1479 1482 1484 1486 1489 1492 1497 1534 1536 1545 1563 1571 1577 1596 1599 1601 1612 1616 1618 1619 1628 1629 1630 1634 1636 1641 1647 1648 1649 1655 1661 1663 1679 1682 1683 1684 1719 1725 1726 1741 1765 1767 1773 1774 1775 1776 1778 1792 1793 1803 1815 1817 1820 1830 1834 1853 1870 1878 1882 1899 1901 1915 1923 1926 1940 1952 1966 1975 1985 1986 1987 1992 1994 1998 2000 2005 2007 2018 2020 2021 2022 2025 2026 2028 2043 2044 2047 2051 2052 2059 2062 2064 2065 2066 2067 2071 2074 2078 2081 2096 2107 2111 2118 2119 2121 2125 2360 2437 2448 2504 2559 2570 2582 2615 2759 "
     ]
    }
   ],
   "source": [
    "show_ids(\"abortion\")"
   ]
  },
  {
   "cell_type": "code",
   "execution_count": 73,
   "id": "5a11cd21-82f6-4429-95fb-c71317178f12",
   "metadata": {},
   "outputs": [
    {
     "name": "stdout",
     "output_type": "stream",
     "text": [
      "2 113 224 446 752 754 755 758 759 770 781 783 784 787 789 796 797 798 803 811 818 819 822 832 839 840 842 847 851 852 854 861 862 863 869 870 871 875 878 880 882 884 887 888 889 892 894 897 899 901 903 904 908 909 915 916 920 921 922 923 925 928 930 931 937 938 942 943 945 948 953 956 964 972 975 986 989 992 993 994 995 1000 1004 1006 1007 1011 1014 1015 1016 1018 1019 1028 1032 1033 1036 1040 1045 1058 1062 1071 1073 1085 1086 1094 1095 1096 1097 1098 1099 1107 1110 1113 1118 1121 1124 1127 1128 1131 1134 1137 1144 1149 1152 1154 1155 1156 1161 1167 1178 1181 1184 1186 1189 1194 1195 1198 1199 1205 1207 1208 1215 1217 1218 1220 1221 1226 1228 1232 1233 1241 1253 1254 1262 1264 1268 1272 1281 1283 1286 1287 1288 1295 1296 1298 1304 1309 1311 1316 1321 1330 1333 1339 1348 1352 1357 1360 1361 1362 1363 1364 1366 1367 1368 1371 1372 1374 1375 1376 1377 1379 1395 1400 1401 1404 1405 1410 1412 1414 1421 1422 1427 1428 1431 1438 1439 1441 1446 1457 1461 1493 1543 1651 1659 1668 1681 2138 2171 2193 2215 2260 2304 2337 2692 2803 "
     ]
    }
   ],
   "source": [
    "show_ids(\"clinton\")"
   ]
  },
  {
   "cell_type": "code",
   "execution_count": null,
   "id": "f810533c-72a7-41f2-9638-263573902722",
   "metadata": {},
   "outputs": [],
   "source": []
  }
 ],
 "metadata": {
  "kernelspec": {
   "display_name": "transformers",
   "language": "python",
   "name": "transformers"
  },
  "language_info": {
   "codemirror_mode": {
    "name": "ipython",
    "version": 3
   },
   "file_extension": ".py",
   "mimetype": "text/x-python",
   "name": "python",
   "nbconvert_exporter": "python",
   "pygments_lexer": "ipython3",
   "version": "3.7.3"
  }
 },
 "nbformat": 4,
 "nbformat_minor": 5
}
