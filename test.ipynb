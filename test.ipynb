{
 "cells": [
  {
   "cell_type": "markdown",
   "id": "b220be2a-9a82-4f7e-8b32-df6296c5f038",
   "metadata": {},
   "source": [
    "# Experiments with relation extraction\n",
    "\n",
    "For the Filter Bubble project"
   ]
  },
  {
   "cell_type": "markdown",
   "id": "a36d64b7-6a69-4d86-bb7a-f9cb7c94ef4d",
   "metadata": {},
   "source": [
    "## 1. Roberta Named Entity Recogntion by Erik Novak\n",
    "\n",
    "Source: https://www.kaggle.com/eriknovak/pytorch-roberta-named-entity-recognition"
   ]
  },
  {
   "cell_type": "code",
   "execution_count": 1,
   "id": "c84f653e-cb5e-418c-8f15-0907018eac6b",
   "metadata": {},
   "outputs": [],
   "source": [
    "# visualization libraries\n",
    "import matplotlib.pyplot as plt\n",
    "import numpy as np\n",
    "import re\n",
    "\n",
    "# pytorch libraries\n",
    "import torch # the main pytorch library\n",
    "import torch.nn as nn # the sub-library containing Softmax, Module and other useful functions\n",
    "import torch.optim as optim # the sub-library containing the common optimizers (SGD, Adam, etc.)\n",
    "\n",
    "# huggingface's transformers library\n",
    "from transformers import RobertaForTokenClassification, RobertaTokenizer\n",
    "\n",
    "# huggingface's datasets library\n",
    "from datasets import load_dataset, Dataset, DatasetDict, Features, Value\n",
    "from datasets.features import Sequence, ClassLabel\n",
    "\n",
    "# the tqdm library used to show the iteration progress\n",
    "import tqdm\n",
    "tqdmn = tqdm.notebook.tqdm"
   ]
  },
  {
   "cell_type": "code",
   "execution_count": 2,
   "id": "0a2721e4-962d-45ae-92db-9f23484abca2",
   "metadata": {},
   "outputs": [],
   "source": [
    "roberta_version = 'roberta-base'\n",
    "tokenizer = RobertaTokenizer.from_pretrained(roberta_version)"
   ]
  },
  {
   "cell_type": "code",
   "execution_count": 3,
   "id": "c9ec3796-0b2a-43dd-82b2-8b2e2d4fc0f4",
   "metadata": {},
   "outputs": [
    {
     "name": "stderr",
     "output_type": "stream",
     "text": [
      "Reusing dataset conll2003 (/home/erikt/.cache/huggingface/datasets/conll2003/conll2003/1.0.0/40e7cb6bcc374f7c349c83acd1e9352a4f09474eb691f64f364ee62eb65d0ca6)\n"
     ]
    }
   ],
   "source": [
    "dataset = load_dataset(\"conll2003\")"
   ]
  },
  {
   "cell_type": "code",
   "execution_count": 4,
   "id": "b99e6991-85a5-46e0-be9e-3237cd180a8e",
   "metadata": {},
   "outputs": [],
   "source": [
    "def read_data(file_name, ner_tag_ids):\n",
    "    data = { \"id\": [], \"tokens\": [], \"ner_tags\": [] }\n",
    "    tokens = []\n",
    "    ner_tags = []\n",
    "    infile = open(file_name, mode = \"r\", encoding = \"latin1\")\n",
    "    for line in infile:\n",
    "        if not re.search(\"^-DOCSTART-\", line):\n",
    "            try:\n",
    "                token, pos_tag, ner_tag = line.split()\n",
    "                if ner_tag not in ner_tag_ids:\n",
    "                    ner_tag_ids[ner_tag] = len(ner_tag_ids)\n",
    "                tokens.append(token)\n",
    "                ner_tags.append(ner_tag_ids[ner_tag])\n",
    "            except:\n",
    "                if len(tokens) > 0:\n",
    "                    data[\"id\"].append(str(len(data[\"id\"])))\n",
    "                    data[\"tokens\"].append(tokens)\n",
    "                    data[\"ner_tags\"].append(ner_tags)\n",
    "                    ids = []\n",
    "                    tokens = []\n",
    "                    ner_tags = []\n",
    "    if len(ids) > 0:\n",
    "        data[\"id\"].append(ids)\n",
    "        data[\"tokens\"].append(tokens)\n",
    "        data[\"ner_tags\"].append(ner_tags)\n",
    "    infile.close()\n",
    "    return [ data, ner_tag_ids ]"
   ]
  },
  {
   "cell_type": "code",
   "execution_count": 5,
   "id": "5991a280-0a27-4c29-aa92-88a0a724922c",
   "metadata": {},
   "outputs": [],
   "source": [
    "ner_tag_ids = {}\n",
    "dutch_data_train, ner_tag_ids = read_data(\"ner/data/ned.train\", ner_tag_ids)\n",
    "dutch_data_validation, ner_tag_ids = read_data(\"ner/data/ned.testa\", ner_tag_ids)\n",
    "dutch_data_test, ner_tag_ids = read_data(\"ner/data/ned.testb\", ner_tag_ids)"
   ]
  },
  {
   "cell_type": "code",
   "execution_count": 6,
   "id": "ea78b924-e743-49b5-9644-6715f0cf7f85",
   "metadata": {},
   "outputs": [],
   "source": [
    "features_id = Value('string')\n",
    "features_tokens = Sequence(Value('string'))\n",
    "features_ner_tags = Sequence(ClassLabel(names=list(ner_tag_ids.keys())))\n",
    "features = Features({\"id\": features_id, \"tokens\": features_tokens, \"ner_tags\": features_ner_tags })"
   ]
  },
  {
   "cell_type": "code",
   "execution_count": 7,
   "id": "cf905017-f9ac-4615-862e-3800b36f3445",
   "metadata": {},
   "outputs": [],
   "source": [
    "dutch_data_converted = DatasetDict({ \"train\": Dataset.from_dict(dutch_data_train, features=features),\n",
    "                                     \"validation\": Dataset.from_dict(dutch_data_validation, features=features),\n",
    "                                     \"test\": Dataset.from_dict(dutch_data_test, features=features) })"
   ]
  },
  {
   "cell_type": "code",
   "execution_count": 8,
   "id": "e7af7d2c-3a0f-4b1c-9872-a170af5d920c",
   "metadata": {},
   "outputs": [],
   "source": [
    "num_labels = dutch_data_converted[\"train\"].features['ner_tags'].feature.num_classes"
   ]
  },
  {
   "cell_type": "code",
   "execution_count": 9,
   "id": "201d18f0-74d5-4d64-9e74-e6dc4da027bb",
   "metadata": {},
   "outputs": [],
   "source": [
    "def add_encodings(example):\n",
    "    encodings = tokenizer(example['tokens'], truncation=True, padding='max_length', is_split_into_words=True)\n",
    "    labels = example['ner_tags'] + [0] * (tokenizer.model_max_length - len(example['ner_tags']))\n",
    "    return { **encodings, 'labels': labels }"
   ]
  },
  {
   "cell_type": "code",
   "execution_count": 10,
   "id": "417eae93-2bc2-4edf-9ff6-d3d9bb5c199d",
   "metadata": {},
   "outputs": [
    {
     "data": {
      "application/vnd.jupyter.widget-view+json": {
       "model_id": "d45063c8632e4bdf98af9e8ace2fecc7",
       "version_major": 2,
       "version_minor": 0
      },
      "text/plain": [
       "HBox(children=(FloatProgress(value=0.0, max=15806.0), HTML(value='')))"
      ]
     },
     "metadata": {},
     "output_type": "display_data"
    },
    {
     "name": "stdout",
     "output_type": "stream",
     "text": [
      "\n"
     ]
    },
    {
     "data": {
      "application/vnd.jupyter.widget-view+json": {
       "model_id": "5c20610dbdd3464ab394f5f4d11589e3",
       "version_major": 2,
       "version_minor": 0
      },
      "text/plain": [
       "HBox(children=(FloatProgress(value=0.0, max=2895.0), HTML(value='')))"
      ]
     },
     "metadata": {},
     "output_type": "display_data"
    },
    {
     "name": "stdout",
     "output_type": "stream",
     "text": [
      "\n"
     ]
    },
    {
     "data": {
      "application/vnd.jupyter.widget-view+json": {
       "model_id": "18bc466e0b1d459ebb773402c2112f4c",
       "version_major": 2,
       "version_minor": 0
      },
      "text/plain": [
       "HBox(children=(FloatProgress(value=0.0, max=5195.0), HTML(value='')))"
      ]
     },
     "metadata": {},
     "output_type": "display_data"
    },
    {
     "name": "stdout",
     "output_type": "stream",
     "text": [
      "\n"
     ]
    }
   ],
   "source": [
    "dutch_data_converted = dutch_data_converted.map(add_encodings)"
   ]
  },
  {
   "cell_type": "code",
   "execution_count": 11,
   "id": "5c24c577-90cf-492d-b23d-09e165388d6b",
   "metadata": {},
   "outputs": [],
   "source": [
    "dutch_data_converted.set_format(type='torch', columns=['input_ids', 'attention_mask', 'labels'])"
   ]
  },
  {
   "cell_type": "code",
   "execution_count": 12,
   "id": "abb80fb8-8e2c-4f43-b10d-6430b97feb3c",
   "metadata": {},
   "outputs": [],
   "source": [
    "labels = dutch_data_converted['train'].features['ner_tags'].feature\n",
    "label2id = { k: labels.str2int(k) for k in labels.names }\n",
    "id2label = { v: k for k, v in label2id.items() }"
   ]
  },
  {
   "cell_type": "code",
   "execution_count": 13,
   "id": "224b51a7-867f-4acf-82e5-91b9adde6d2f",
   "metadata": {},
   "outputs": [
    {
     "name": "stderr",
     "output_type": "stream",
     "text": [
      "Some weights of the model checkpoint at roberta-base were not used when initializing RobertaForTokenClassification: ['lm_head.bias', 'lm_head.dense.weight', 'lm_head.dense.bias', 'lm_head.layer_norm.weight', 'lm_head.layer_norm.bias', 'lm_head.decoder.weight']\n",
      "- This IS expected if you are initializing RobertaForTokenClassification from the checkpoint of a model trained on another task or with another architecture (e.g. initializing a BertForSequenceClassification model from a BertForPreTraining model).\n",
      "- This IS NOT expected if you are initializing RobertaForTokenClassification from the checkpoint of a model that you expect to be exactly identical (initializing a BertForSequenceClassification model from a BertForSequenceClassification model).\n",
      "Some weights of RobertaForTokenClassification were not initialized from the model checkpoint at roberta-base and are newly initialized: ['classifier.weight', 'classifier.bias']\n",
      "You should probably TRAIN this model on a down-stream task to be able to use it for predictions and inference.\n"
     ]
    }
   ],
   "source": [
    "model = RobertaForTokenClassification.from_pretrained(roberta_version, num_labels=num_labels)\n",
    "model.config.id2label = id2label\n",
    "model.config.label2id = label2id"
   ]
  },
  {
   "cell_type": "code",
   "execution_count": 14,
   "id": "3b84b2ff-a148-430a-ab00-273a50f77d51",
   "metadata": {},
   "outputs": [],
   "source": [
    "device = torch.device(\"cuda\" if torch.cuda.is_available() else \"cpu\")"
   ]
  },
  {
   "cell_type": "code",
   "execution_count": 15,
   "id": "db2b64d4-abfa-4223-adf2-ec51643cea53",
   "metadata": {},
   "outputs": [],
   "source": [
    "model.train().to(device)\n",
    "optimizer = optim.AdamW(params=model.parameters(), lr=1e-5)"
   ]
  },
  {
   "cell_type": "code",
   "execution_count": 16,
   "id": "ee7804b5-dd2d-4cef-aabc-4f12c6b09688",
   "metadata": {},
   "outputs": [],
   "source": [
    "n_epochs = 1\n",
    "train_data = torch.utils.data.DataLoader(dutch_data_converted['validation'], batch_size=4)"
   ]
  },
  {
   "cell_type": "code",
   "execution_count": 17,
   "id": "a3ffcffb-dce4-48a0-8e70-ba26f7b18265",
   "metadata": {},
   "outputs": [
    {
     "data": {
      "application/vnd.jupyter.widget-view+json": {
       "model_id": "446c1527981d4149b4f13fcd01029c39",
       "version_major": 2,
       "version_minor": 0
      },
      "text/plain": [
       "HBox(children=(FloatProgress(value=0.0, max=1.0), HTML(value='')))"
      ]
     },
     "metadata": {},
     "output_type": "display_data"
    },
    {
     "data": {
      "application/vnd.jupyter.widget-view+json": {
       "model_id": "541a93ee9e78428d82fe774c150adc92",
       "version_major": 2,
       "version_minor": 0
      },
      "text/plain": [
       "HBox(children=(FloatProgress(value=0.0, max=724.0), HTML(value='')))"
      ]
     },
     "metadata": {},
     "output_type": "display_data"
    },
    {
     "name": "stdout",
     "output_type": "stream",
     "text": [
      "\n",
      "\n"
     ]
    }
   ],
   "source": [
    "train_loss = []\n",
    "for epoch in tqdmn(range(n_epochs)):\n",
    "    current_loss = 0\n",
    "    for i, batch in enumerate(tqdmn(train_data)):\n",
    "        if i >= 100:\n",
    "            break\n",
    "        batch = { k: v.to(device) for k, v in batch.items() }\n",
    "        outputs = model(**batch)\n",
    "        loss = outputs[0]\n",
    "        loss.backward()\n",
    "        current_loss += loss.item()\n",
    "        if i % 8 == 0 and i > 0:\n",
    "            optimizer.step()\n",
    "            optimizer.zero_grad()\n",
    "            train_loss.append(current_loss / 32)\n",
    "            current_loss = 0\n",
    "    optimizer.step()\n",
    "    optimizer.zero_grad()"
   ]
  },
  {
   "cell_type": "code",
   "execution_count": 18,
   "id": "6f4ab125-886e-4607-b06c-408e91533803",
   "metadata": {},
   "outputs": [
    {
     "data": {
      "image/png": "[encoded data removed]",
      "text/plain": [
       "<Figure size 720x288 with 1 Axes>"
      ]
     },
     "metadata": {
      "needs_background": "light"
     },
     "output_type": "display_data"
    }
   ],
   "source": [
    "fig, ax = plt.subplots(figsize=(10, 4))\n",
    "ax.plot(train_loss)\n",
    "ax.set_ylabel('Loss')\n",
    "ax.set_xlabel(f'Iterations ({len(train_loss)} examples)')\n",
    "fig.tight_layout()\n",
    "plt.show()"
   ]
  },
  {
   "cell_type": "code",
   "execution_count": 19,
   "id": "9abca1c8-6ecb-4f67-8f0d-93de3439585d",
   "metadata": {},
   "outputs": [],
   "source": [
    "model = model.eval()\n",
    "test_data = torch.utils.data.DataLoader(dutch_data_converted['test'], batch_size=4)"
   ]
  },
  {
   "cell_type": "code",
   "execution_count": 20,
   "id": "1d80d0f0-7ced-4bd5-9d86-7b3073015b3d",
   "metadata": {},
   "outputs": [
    {
     "data": {
      "application/vnd.jupyter.widget-view+json": {
       "model_id": "9ee28d2cb7d943cbaedc971498d1d762",
       "version_major": 2,
       "version_minor": 0
      },
      "text/plain": [
       "HBox(children=(FloatProgress(value=0.0, max=1299.0), HTML(value='')))"
      ]
     },
     "metadata": {},
     "output_type": "display_data"
    },
    {
     "name": "stdout",
     "output_type": "stream",
     "text": [
      "\n"
     ]
    }
   ],
   "source": [
    "confusion = torch.zeros(num_labels, num_labels)\n",
    "found = 0\n",
    "missed = 0\n",
    "wrong = 0\n",
    "\n",
    "for i, batch in enumerate(tqdmn(test_data)):\n",
    "    if i >= 100:\n",
    "        break\n",
    "    with torch.no_grad():\n",
    "        batch = { k: v.to(device) for k, v in batch.items() }\n",
    "        outputs = model(**batch)\n",
    "            \n",
    "    s_lengths = batch['attention_mask'].sum(dim=1)\n",
    "    for idx, length in enumerate(s_lengths):\n",
    "        true_values = batch['labels'][idx][:length]\n",
    "        pred_values = torch.argmax(outputs[1], dim=2)[idx][:length]\n",
    "        for true, pred in zip(true_values, pred_values):\n",
    "            confusion[true.item()][pred.item()] += 1\n",
    "            if true.item() > 0:\n",
    "                if pred.item() > 0:\n",
    "                    found += 1\n",
    "                else: \n",
    "                    missed += 1\n",
    "            elif pred.item() > 0:\n",
    "                wrong += 1"
   ]
  },
  {
   "cell_type": "code",
   "execution_count": 21,
   "id": "8e47c5c8-eac6-488e-9880-222257ea5c5e",
   "metadata": {},
   "outputs": [
    {
     "name": "stdout",
     "output_type": "stream",
     "text": [
      "precision: 0.0; recall: 0.0\n"
     ]
    }
   ],
   "source": [
    "if found + wrong == 0:\n",
    "    precision = 0.0\n",
    "else:\n",
    "    precision = found / (found + wrong)\n",
    "recall = found / (found + missed)\n",
    "\n",
    "print(f\"precision: {precision}; recall: {recall}\")"
   ]
  },
  {
   "cell_type": "code",
   "execution_count": 22,
   "id": "4d3ddbb2-b31b-4bb7-a345-c9323d9a9278",
   "metadata": {},
   "outputs": [],
   "source": [
    "for i in range(num_labels):\n",
    "    confusion[i] = confusion[i] / confusion[i].sum()"
   ]
  },
  {
   "cell_type": "code",
   "execution_count": 23,
   "id": "0981737d-a3f4-4439-bd8f-dc1eb2cdc409",
   "metadata": {},
   "outputs": [
    {
     "data": {
      "image/png": "[encoded data removed]",
      "text/plain": [
       "<Figure size 720x720 with 1 Axes>"
      ]
     },
     "metadata": {
      "needs_background": "light"
     },
     "output_type": "display_data"
    }
   ],
   "source": [
    "fig, ax = plt.subplots(figsize=(10, 10))\n",
    "ax.matshow(confusion.numpy())\n",
    "\n",
    "labels = list(label2id.keys())\n",
    "ids = np.arange(len(labels))\n",
    "\n",
    "ax.set_ylabel('True Labels', fontsize='x-large')\n",
    "ax.set_xlabel('Pred Labels', fontsize='x-large')\n",
    "\n",
    "ax.set_xticks(ids)\n",
    "ax.set_xticklabels(labels)\n",
    "\n",
    "ax.set_yticks(ids)\n",
    "ax.set_yticklabels(labels)\n",
    "\n",
    "fig.tight_layout()\n",
    "plt.show()"
   ]
  },
  {
   "cell_type": "code",
   "execution_count": 24,
   "id": "9eccdf7b-4bea-4b20-9582-832113456959",
   "metadata": {},
   "outputs": [
    {
     "data": {
      "text/plain": [
       "array([[1., 0., 0., 0., 0., 0., 0., 0., 0.],\n",
       "       [1., 0., 0., 0., 0., 0., 0., 0., 0.],\n",
       "       [1., 0., 0., 0., 0., 0., 0., 0., 0.],\n",
       "       [1., 0., 0., 0., 0., 0., 0., 0., 0.],\n",
       "       [1., 0., 0., 0., 0., 0., 0., 0., 0.],\n",
       "       [1., 0., 0., 0., 0., 0., 0., 0., 0.],\n",
       "       [1., 0., 0., 0., 0., 0., 0., 0., 0.],\n",
       "       [1., 0., 0., 0., 0., 0., 0., 0., 0.],\n",
       "       [1., 0., 0., 0., 0., 0., 0., 0., 0.]], dtype=float32)"
      ]
     },
     "execution_count": 24,
     "metadata": {},
     "output_type": "execute_result"
    }
   ],
   "source": [
    "confusion.numpy()"
   ]
  },
  {
   "cell_type": "code",
   "execution_count": 25,
   "id": "b39f7335-a00d-4cc9-a15a-26805ae69549",
   "metadata": {},
   "outputs": [
    {
     "data": {
      "text/plain": [
       "{'O': 0,\n",
       " 'B-ORG': 1,\n",
       " 'B-MISC': 2,\n",
       " 'B-PER': 3,\n",
       " 'I-PER': 4,\n",
       " 'B-LOC': 5,\n",
       " 'I-MISC': 6,\n",
       " 'I-ORG': 7,\n",
       " 'I-LOC': 8}"
      ]
     },
     "execution_count": 25,
     "metadata": {},
     "output_type": "execute_result"
    }
   ],
   "source": [
    "ner_tag_ids"
   ]
  },
  {
   "cell_type": "markdown",
   "id": "ab23a7a9-c85f-47f7-a9b1-b06645c32ffc",
   "metadata": {},
   "source": [
    "## 2. SemEval-2016 Task 6\n",
    "\n",
    "Source: https://alt.qcri.org/semeval2016/task6/"
   ]
  },
  {
   "cell_type": "code",
   "execution_count": 26,
   "id": "da493789-6218-4ae3-8a85-2531ba9539d9",
   "metadata": {},
   "outputs": [],
   "source": [
    "import pandas as pd"
   ]
  },
  {
   "cell_type": "code",
   "execution_count": 45,
   "id": "f89b958e-628d-4774-b35d-b2aeb19772b2",
   "metadata": {},
   "outputs": [],
   "source": [
    "train_data = pd.read_csv(\"../data/StanceDataset/train_with_newlines.csv\", encoding=\"latin1\")"
   ]
  },
  {
   "cell_type": "code",
   "execution_count": 46,
   "id": "8c18c4d0-4ae0-49a7-a416-f823614bd948",
   "metadata": {},
   "outputs": [
    {
     "data": {
      "text/html": [
       "<div>\n",
       "<style scoped>\n",
       "    .dataframe tbody tr th:only-of-type {\n",
       "        vertical-align: middle;\n",
       "    }\n",
       "\n",
       "    .dataframe tbody tr th {\n",
       "        vertical-align: top;\n",
       "    }\n",
       "\n",
       "    .dataframe thead th {\n",
       "        text-align: right;\n",
       "    }\n",
       "</style>\n",
       "<table border=\"1\" class=\"dataframe\">\n",
       "  <thead>\n",
       "    <tr style=\"text-align: right;\">\n",
       "      <th></th>\n",
       "      <th>Tweet</th>\n",
       "      <th>Target</th>\n",
       "      <th>Stance</th>\n",
       "      <th>Opinion Towards</th>\n",
       "      <th>Sentiment</th>\n",
       "    </tr>\n",
       "  </thead>\n",
       "  <tbody>\n",
       "    <tr>\n",
       "      <td>0</td>\n",
       "      <td>@tedcruz And, #HandOverTheServer she wiped cle...</td>\n",
       "      <td>Hillary Clinton</td>\n",
       "      <td>AGAINST</td>\n",
       "      <td>1.  The tweet explicitly expresses opinion abo...</td>\n",
       "      <td>neg</td>\n",
       "    </tr>\n",
       "    <tr>\n",
       "      <td>1</td>\n",
       "      <td>Hillary is our best choice if we truly want to...</td>\n",
       "      <td>Hillary Clinton</td>\n",
       "      <td>FAVOR</td>\n",
       "      <td>1.  The tweet explicitly expresses opinion abo...</td>\n",
       "      <td>pos</td>\n",
       "    </tr>\n",
       "    <tr>\n",
       "      <td>2</td>\n",
       "      <td>@TheView I think our country is ready for a fe...</td>\n",
       "      <td>Hillary Clinton</td>\n",
       "      <td>AGAINST</td>\n",
       "      <td>1.  The tweet explicitly expresses opinion abo...</td>\n",
       "      <td>neg</td>\n",
       "    </tr>\n",
       "    <tr>\n",
       "      <td>3</td>\n",
       "      <td>I just gave an unhealthy amount of my hard-ear...</td>\n",
       "      <td>Hillary Clinton</td>\n",
       "      <td>AGAINST</td>\n",
       "      <td>1.  The tweet explicitly expresses opinion abo...</td>\n",
       "      <td>neg</td>\n",
       "    </tr>\n",
       "    <tr>\n",
       "      <td>4</td>\n",
       "      <td>@PortiaABoulger Thank you for adding me to you...</td>\n",
       "      <td>Hillary Clinton</td>\n",
       "      <td>NONE</td>\n",
       "      <td>3.  The tweet is not explicitly expressing opi...</td>\n",
       "      <td>pos</td>\n",
       "    </tr>\n",
       "    <tr>\n",
       "      <td>...</td>\n",
       "      <td>...</td>\n",
       "      <td>...</td>\n",
       "      <td>...</td>\n",
       "      <td>...</td>\n",
       "      <td>...</td>\n",
       "    </tr>\n",
       "    <tr>\n",
       "      <td>2909</td>\n",
       "      <td>There's a law protecting unborn eagles, but no...</td>\n",
       "      <td>Legalization of Abortion</td>\n",
       "      <td>AGAINST</td>\n",
       "      <td>1.  The tweet explicitly expresses opinion abo...</td>\n",
       "      <td>neg</td>\n",
       "    </tr>\n",
       "    <tr>\n",
       "      <td>2910</td>\n",
       "      <td>I am 1 in 3... I have had an abortion #Abortio...</td>\n",
       "      <td>Legalization of Abortion</td>\n",
       "      <td>AGAINST</td>\n",
       "      <td>2. The tweet does NOT expresses opinion about ...</td>\n",
       "      <td>other</td>\n",
       "    </tr>\n",
       "    <tr>\n",
       "      <td>2911</td>\n",
       "      <td>How dare you say my sexual preference is a cho...</td>\n",
       "      <td>Legalization of Abortion</td>\n",
       "      <td>AGAINST</td>\n",
       "      <td>2. The tweet does NOT expresses opinion about ...</td>\n",
       "      <td>neg</td>\n",
       "    </tr>\n",
       "    <tr>\n",
       "      <td>2912</td>\n",
       "      <td>Equal rights for those 'born that way', no rig...</td>\n",
       "      <td>Legalization of Abortion</td>\n",
       "      <td>AGAINST</td>\n",
       "      <td>2. The tweet does NOT expresses opinion about ...</td>\n",
       "      <td>neg</td>\n",
       "    </tr>\n",
       "    <tr>\n",
       "      <td>2913</td>\n",
       "      <td>#POTUS seals his legacy w/ 1/2 doz wins. The #...</td>\n",
       "      <td>Legalization of Abortion</td>\n",
       "      <td>AGAINST</td>\n",
       "      <td>2. The tweet does NOT expresses opinion about ...</td>\n",
       "      <td>neg</td>\n",
       "    </tr>\n",
       "  </tbody>\n",
       "</table>\n",
       "<p>2914 rows × 5 columns</p>\n",
       "</div>"
      ],
      "text/plain": [
       "                                                  Tweet  \\\n",
       "0     @tedcruz And, #HandOverTheServer she wiped cle...   \n",
       "1     Hillary is our best choice if we truly want to...   \n",
       "2     @TheView I think our country is ready for a fe...   \n",
       "3     I just gave an unhealthy amount of my hard-ear...   \n",
       "4     @PortiaABoulger Thank you for adding me to you...   \n",
       "...                                                 ...   \n",
       "2909  There's a law protecting unborn eagles, but no...   \n",
       "2910  I am 1 in 3... I have had an abortion #Abortio...   \n",
       "2911  How dare you say my sexual preference is a cho...   \n",
       "2912  Equal rights for those 'born that way', no rig...   \n",
       "2913  #POTUS seals his legacy w/ 1/2 doz wins. The #...   \n",
       "\n",
       "                        Target   Stance  \\\n",
       "0              Hillary Clinton  AGAINST   \n",
       "1              Hillary Clinton    FAVOR   \n",
       "2              Hillary Clinton  AGAINST   \n",
       "3              Hillary Clinton  AGAINST   \n",
       "4              Hillary Clinton     NONE   \n",
       "...                        ...      ...   \n",
       "2909  Legalization of Abortion  AGAINST   \n",
       "2910  Legalization of Abortion  AGAINST   \n",
       "2911  Legalization of Abortion  AGAINST   \n",
       "2912  Legalization of Abortion  AGAINST   \n",
       "2913  Legalization of Abortion  AGAINST   \n",
       "\n",
       "                                        Opinion Towards Sentiment  \n",
       "0     1.  The tweet explicitly expresses opinion abo...       neg  \n",
       "1     1.  The tweet explicitly expresses opinion abo...       pos  \n",
       "2     1.  The tweet explicitly expresses opinion abo...       neg  \n",
       "3     1.  The tweet explicitly expresses opinion abo...       neg  \n",
       "4     3.  The tweet is not explicitly expressing opi...       pos  \n",
       "...                                                 ...       ...  \n",
       "2909  1.  The tweet explicitly expresses opinion abo...       neg  \n",
       "2910  2. The tweet does NOT expresses opinion about ...     other  \n",
       "2911  2. The tweet does NOT expresses opinion about ...       neg  \n",
       "2912  2. The tweet does NOT expresses opinion about ...       neg  \n",
       "2913  2. The tweet does NOT expresses opinion about ...       neg  \n",
       "\n",
       "[2914 rows x 5 columns]"
      ]
     },
     "execution_count": 46,
     "metadata": {},
     "output_type": "execute_result"
    }
   ],
   "source": [
    "train_data"
   ]
  },
  {
   "cell_type": "code",
   "execution_count": 48,
   "id": "7dec8be5-9e02-411b-b213-34be23e18ba7",
   "metadata": {},
   "outputs": [
    {
     "data": {
      "text/plain": [
       "Hillary Clinton                     689\n",
       "Feminist Movement                   664\n",
       "Legalization of Abortion            653\n",
       "Atheism                             513\n",
       "Climate Change is a Real Concern    395\n",
       "Name: Target, dtype: int64"
      ]
     },
     "execution_count": 48,
     "metadata": {},
     "output_type": "execute_result"
    }
   ],
   "source": [
    "train_data['Target'].value_counts()"
   ]
  },
  {
   "cell_type": "markdown",
   "id": "7b84ee62-3a20-4efa-a9a5-ae5bba2bfedf",
   "metadata": {},
   "source": [
    "Next: text classification, see: https://mccormickml.com/2019/07/22/BERT-fine-tuning/"
   ]
  },
  {
   "cell_type": "code",
   "execution_count": null,
   "id": "ee44d3d2-bc75-454b-9d4e-64f76d4f01a5",
   "metadata": {},
   "outputs": [],
   "source": []
  }
 ],
 "metadata": {
  "kernelspec": {
   "display_name": "python37",
   "language": "python",
   "name": "python37"
  },
  "language_info": {
   "codemirror_mode": {
    "name": "ipython",
    "version": 3
   },
   "file_extension": ".py",
   "mimetype": "text/x-python",
   "name": "python",
   "nbconvert_exporter": "python",
   "pygments_lexer": "ipython3",
   "version": "3.7.3"
  }
 },
 "nbformat": 4,
 "nbformat_minor": 5
}
